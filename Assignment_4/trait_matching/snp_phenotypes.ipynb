{
 "metadata": {
  "name": "",
  "signature": "sha256:09faad468bde9b0e7d0177e2c6382dcb2411f1540a755c1db218c698c936f399"
 },
 "nbformat": 3,
 "nbformat_minor": 0,
 "worksheets": [
  {
   "cells": [
    {
     "cell_type": "code",
     "collapsed": false,
     "input": [
      "import csv\n",
      "sample_genome_file = 'genome_full_snps.txt'\n",
      "\n",
      "ad = 'PheGen/PheGenI_Association_A_through_D.tab'\n",
      "eh = 'PheGen/PheGenI_Association_E_through_H.tab'\n",
      "im = 'PheGen/PheGenI_Association_I_through_M.tab'\n",
      "nr = 'PheGen/PheGenI_Association_N_through_R.tab'\n",
      "sw = 'PheGen/PheGenI_Association_S_through_W.tab'\n",
      "    \n",
      "PheGenI_files = [ad, eh, im, nr, sw]\n",
      "\n",
      "phenotypes = []\n",
      "\n",
      "trait = [] # Second element of row\n",
      "rsid = []  # Third element of row\n",
      "\n",
      "for f in PheGenI_files:\n",
      "    with open(f, 'rb') as csvfile:\n",
      "        spamreader = csv.reader(csvfile, delimiter=' ', quotechar='|')\n",
      "        for row in spamreader:\n",
      "            if len(row) == 1:\n",
      "                entry = row[0].split(\"\\t\")\n",
      "                trait.append(entry[1])\n",
      "                rsid.append(\"rs\" + entry[2])\n",
      "            else:\n",
      "                row = \"\".join(row)\n",
      "                row = row.split(\"\\t\")\n",
      "                trait.append(row[1])\n",
      "                rsid.append(\"rs\" + row[2])  \n",
      "\n",
      "our_snps = []\n",
      "with open(sample_genome_file, 'rb') as csvfile:\n",
      "    spamreader = csv.reader(csvfile, delimiter=' ', quotechar='|')\n",
      "    for row in spamreader:\n",
      "        our_snps.append(row[0].split(\"\\t\")[0])\n",
      "\n",
      "rsid_match = []\n",
      "trait_match = []\n",
      "\n",
      "for i, rs in enumerate(rsid):\n",
      "    if rs in our_snps:\n",
      "        rsid_match.append(rsid[i])\n",
      "        trait_match.append(trait[i])\n",
      "        \n",
      "if not rsid_match and not trait_match:\n",
      "    print \"No matches were found\"\n",
      "\n",
      "else:\n",
      "    print trait_match"
     ],
     "language": "python",
     "metadata": {},
     "outputs": [
      {
       "output_type": "stream",
       "stream": "stdout",
       "text": [
        "No matches were found\n"
       ]
      }
     ],
     "prompt_number": 2
    },
    {
     "cell_type": "code",
     "collapsed": false,
     "input": [
      "to400 = 'PheGen/PheGenI_our_snps_0to400.tab'\n",
      "to800 = 'PheGen/PheGenI_our_snps_400to800.tab'\n",
      "to1200 = 'PheGen/PheGenI_our_snps_800to1200.tab'\n",
      "toend = 'PheGen/PheGenI_our_snps_1200toEnd.tab'\n",
      "\n",
      "our_PheGen_snps = [to400, to800, to1200, toend]\n",
      "\n",
      "introns = 0\n",
      "exons = 0\n",
      "other = 0\n",
      "\n",
      "exon_snps = []\n",
      "exon_rsids = []\n",
      "\n",
      "for f in our_PheGen_snps:\n",
      "    with open(f, 'rb') as csvfile:\n",
      "        spamreader = csv.reader(csvfile, delimiter=' ', quotechar='|')\n",
      "        for row in spamreader:\n",
      "            if 'intron' in row[0]:\n",
      "                introns+=1\n",
      "            elif 'variant' in row[0] or 'codon' in row[0]:\n",
      "                exons+=1\n",
      "                exon_snps.append(row[0])\n",
      "            else:\n",
      "                other+=1\n",
      "\n",
      "print \"dbSNP PROPORTIONS\"            \n",
      "print \"Introns: \" + str(introns/float(introns+exons+other))\n",
      "print \"Exons: \" + str(exons/float(introns+exons+other))\n",
      "print \"Not_specified: \" + str(other/float(introns+exons+other))\n",
      "\n",
      "for exon in exon_snps:\n",
      "    row = exon.split('\\t')\n",
      "    exon_rsids.append(\"rs\" + row[1])\n",
      "\n",
      "print len(exon_rsids)"
     ],
     "language": "python",
     "metadata": {},
     "outputs": [
      {
       "output_type": "stream",
       "stream": "stdout",
       "text": [
        "dbSNP PROPORTIONS\n",
        "Introns: 0.488441461596\n",
        "Exons: 0.0365398956003\n",
        "0\n",
        "Not_specified: 0.475018642804\n"
       ]
      }
     ],
     "prompt_number": 29
    },
    {
     "cell_type": "code",
     "collapsed": false,
     "input": [
      "print exon_rsids"
     ],
     "language": "python",
     "metadata": {},
     "outputs": [
      {
       "output_type": "stream",
       "stream": "stdout",
       "text": [
        "['rs561566745', 'rs559879759', 'rs554453046', 'rs549570838', 'rs540438020', 'rs539646128', 'rs377511360', 'rs371892705', 'rs371807128', 'rs371129234', 'rs369837217', 'rs200560829', 'rs478878', 'rs564005484', 'rs563857631', 'rs559810184', 'rs558496833', 'rs540495090', 'rs539986049', 'rs530428081', 'rs192917559', 'rs190738165', 'rs185268963', 'rs182805746', 'rs578187754', 'rs554170876', 'rs550379325', 'rs549997600', 'rs547710583', 'rs540293973', 'rs538775915', 'rs530889099', 'rs373519232', 'rs371906208', 'rs369179661', 'rs189966435', 'rs189708616', 'rs189407175', 'rs188718940', 'rs184266882', 'rs116368818', 'rs60896759', 'rs1245371', 'rs573963038', 'rs565823090', 'rs540069872', 'rs149298781', 'rs11713359', 'rs5777991']\n"
       ]
      }
     ],
     "prompt_number": 30
    },
    {
     "cell_type": "code",
     "collapsed": false,
     "input": [],
     "language": "python",
     "metadata": {},
     "outputs": []
    }
   ],
   "metadata": {}
  }
 ]
}