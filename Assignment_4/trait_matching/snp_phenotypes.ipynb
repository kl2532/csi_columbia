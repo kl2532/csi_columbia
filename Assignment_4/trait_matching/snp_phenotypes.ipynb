{
 "metadata": {
  "name": "",
  "signature": "sha256:c113f1959475d23a7ae633263e1b3734198b12f016e2469068f70332aa3d599a"
 },
 "nbformat": 3,
 "nbformat_minor": 0,
 "worksheets": [
  {
   "cells": [
    {
     "cell_type": "code",
     "collapsed": false,
     "input": [
      "import csv\n",
      "sample_genome_file = 'genome_full_snps.txt'\n",
      "\n",
      "ad = 'PheGenI_Association_A_through_D.tab'\n",
      "eh = 'PheGenI_Association_E_through_H.tab'\n",
      "im = 'PheGenI_Association_I_through_M.tab'\n",
      "nr = 'PheGenI_Association_N_through_R.tab'\n",
      "sw = 'PheGenI_Association_S_through_W.tab'\n",
      "    \n",
      "PheGenI_files = [ad, eh, im, nr, sw]\n",
      "\n",
      "phenotypes = []\n",
      "\n",
      "trait = [] # Second element of row\n",
      "rsid = []  # Third element of row\n",
      "\n",
      "for f in PheGenI_files:\n",
      "    with open(f, 'rb') as csvfile:\n",
      "        spamreader = csv.reader(csvfile, delimiter=' ', quotechar='|')\n",
      "        for row in spamreader:\n",
      "            if len(row) == 1:\n",
      "                entry = row[0].split(\"\\t\")\n",
      "                trait.append(entry[1])\n",
      "                rsid.append(\"rs\" + entry[2])\n",
      "            else:\n",
      "                row = \"\".join(row)\n",
      "                row = row.split(\"\\t\")\n",
      "                trait.append(row[1])\n",
      "                rsid.append(\"rs\" + row[2])  \n",
      "\n",
      "our_snps = []\n",
      "with open(sample_genome_file, 'rb') as csvfile:\n",
      "    spamreader = csv.reader(csvfile, delimiter=' ', quotechar='|')\n",
      "    for row in spamreader:\n",
      "        our_snps.append(row[0].split(\"\\t\")[0])\n",
      "\n",
      "rsid_match = []\n",
      "trait_match = []\n",
      "\n",
      "for i, rs in enumerate(rsid):\n",
      "    if rs in our_snps:\n",
      "        rsid_match.append(rsid[i])\n",
      "        trait_match.append(trait[i])\n",
      "        \n",
      "if not rsid_match and not trait_match:\n",
      "    print \"No matches were found\"\n",
      "\n",
      "else:\n",
      "    print trait_match"
     ],
     "language": "python",
     "metadata": {},
     "outputs": [
      {
       "output_type": "stream",
       "stream": "stdout",
       "text": [
        "No matches were found\n"
       ]
      }
     ],
     "prompt_number": 157
    },
    {
     "cell_type": "code",
     "collapsed": false,
     "input": [],
     "language": "python",
     "metadata": {},
     "outputs": []
    }
   ],
   "metadata": {}
  }
 ]
}