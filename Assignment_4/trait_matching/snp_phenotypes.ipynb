{
 "metadata": {
  "name": "",
  "signature": "sha256:dfaee59aa5f3c02237e45af682d59548b8c8ebcd9500096e9f3983a04dac2726"
 },
 "nbformat": 3,
 "nbformat_minor": 0,
 "worksheets": [
  {
   "cells": [
    {
     "cell_type": "code",
     "collapsed": false,
     "input": [
      "import csv\n",
      "sample_genome_file = 'genome_full_snps.txt'\n",
      "\n",
      "ad = 'PheGen/PheGenI_Association_A_through_D.tab'\n",
      "eh = 'PheGen/PheGenI_Association_E_through_H.tab'\n",
      "im = 'PheGen/PheGenI_Association_I_through_M.tab'\n",
      "nr = 'PheGen/PheGenI_Association_N_through_R.tab'\n",
      "sw = 'PheGen/PheGenI_Association_S_through_W.tab'\n",
      "    \n",
      "PheGenI_files = [ad, eh, im, nr, sw]\n",
      "\n",
      "phenotypes = []\n",
      "\n",
      "trait = [] # Second element of row\n",
      "rsid = []  # Third element of row\n",
      "\n",
      "for f in PheGenI_files:\n",
      "    with open(f, 'rb') as csvfile:\n",
      "        spamreader = csv.reader(csvfile, delimiter=' ', quotechar='|')\n",
      "        for row in spamreader:\n",
      "            if len(row) == 1:\n",
      "                entry = row[0].split(\"\\t\")\n",
      "                trait.append(entry[1])\n",
      "                rsid.append(\"rs\" + entry[2])\n",
      "            else:\n",
      "                row = \"\".join(row)\n",
      "                row = row.split(\"\\t\")\n",
      "                trait.append(row[1])\n",
      "                rsid.append(\"rs\" + row[2])  \n",
      "\n",
      "our_snps = []\n",
      "with open(sample_genome_file, 'rb') as csvfile:\n",
      "    spamreader = csv.reader(csvfile, delimiter=' ', quotechar='|')\n",
      "    for row in spamreader:\n",
      "        our_snps.append(row[0].split(\"\\t\")[0])\n",
      "\n",
      "rsid_match = []\n",
      "trait_match = []\n",
      "\n",
      "for i, rs in enumerate(rsid):\n",
      "    if rs in our_snps:\n",
      "        rsid_match.append(rsid[i])\n",
      "        trait_match.append(trait[i])\n",
      "        \n",
      "if not rsid_match and not trait_match:\n",
      "    print \"No matches were found\"\n",
      "\n",
      "else:\n",
      "    print trait_match"
     ],
     "language": "python",
     "metadata": {},
     "outputs": [
      {
       "output_type": "stream",
       "stream": "stdout",
       "text": [
        "No matches were found\n"
       ]
      }
     ],
     "prompt_number": 2
    },
    {
     "cell_type": "code",
     "collapsed": false,
     "input": [
      "our_snps = 'PheGenI_our_snps.tab'\n",
      "\n",
      "introns = 0\n",
      "exons = 0\n",
      "other = 0\n",
      "\n",
      "exon_snps = []\n",
      "exon_rsids = []\n",
      "\n",
      "with open(our_snps, 'rb') as csvfile:\n",
      "    spamreader = csv.reader(csvfile, delimiter=' ', quotechar='|')\n",
      "    for row in spamreader:\n",
      "        if 'intron' in row[0]:\n",
      "            introns+=1\n",
      "        elif 'variant' in row[0] or 'codon' in row[0]:\n",
      "            exons+=1\n",
      "            exon_snps.append(row[0])\n",
      "        else:\n",
      "            other+=1\n",
      "\n",
      "print \"dbSNP PROPORTIONS\"            \n",
      "print \"Introns: \" + str(introns/float(introns+exons+other))\n",
      "print \"Exons: \" + str(exons/float(introns+exons+other))\n",
      "print \"Not_specified: \" + str(other/float(introns+exons+other))\n",
      "\n",
      "for exon in exon_snps:\n",
      "    row = exon.split('\\t')\n",
      "    exon_rsids.append(\"rs\" + row[1])\n",
      "    \n",
      "print exon_rsids"
     ],
     "language": "python",
     "metadata": {},
     "outputs": [
      {
       "output_type": "stream",
       "stream": "stdout",
       "text": [
        "dbSNP PROPORTIONS\n",
        "Introns: 0.535046728972\n",
        "Exons: 0.0327102803738\n",
        "Not_specified: 0.432242990654\n",
        "['rs561566745', 'rs559879759', 'rs554453046', 'rs549570838', 'rs540495090', 'rs540438020', 'rs539646128', 'rs377511360', 'rs371892705', 'rs371807128', 'rs371129234', 'rs369837217', 'rs200560829', 'rs478878']\n"
       ]
      }
     ],
     "prompt_number": 23
    },
    {
     "cell_type": "code",
     "collapsed": false,
     "input": [],
     "language": "python",
     "metadata": {},
     "outputs": []
    }
   ],
   "metadata": {}
  }
 ]
}